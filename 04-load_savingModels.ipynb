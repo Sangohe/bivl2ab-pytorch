{
  "nbformat": 4,
  "nbformat_minor": 0,
  "metadata": {
    "colab": {
      "provenance": []
    },
    "kernelspec": {
      "name": "python3",
      "display_name": "Python 3"
    },
    "language_info": {
      "name": "python"
    },
    "accelerator": "GPU"
  },
  "cells": [
    {
      "cell_type": "markdown",
      "source": [
        "# **My first CNN classifier**\n",
        "## Loading data"
      ],
      "metadata": {
        "id": "R9CijJGdOsp1"
      }
    },
    {
      "cell_type": "code",
      "execution_count": null,
      "metadata": {
        "id": "rslc3WnUAIaN"
      },
      "outputs": [],
      "source": [
        "import torch\n",
        "from torch import nn\n",
        "from torch.utils.data import DataLoader #to wraps an iterable around the dataset\n",
        "from torchvision import datasets \n",
        "from torchvision.transforms import ToTensor\n",
        "import matplotlib.pyplot as plt\n",
        "import shutil#shell utils\n",
        "import numpy as np"
      ]
    },
    {
      "cell_type": "code",
      "source": [
        "# Download training data from open datasets.\n",
        "training_data = datasets.FashionMNIST(\n",
        "    root=\"data\",\n",
        "    train=True,\n",
        "    download=True,\n",
        "    transform=ToTensor(),\n",
        ")\n",
        "\n",
        "# Download test data from open datasets.\n",
        "test_data = datasets.FashionMNIST(\n",
        "    root=\"data\",\n",
        "    train=False,\n",
        "    download=True,\n",
        "    transform=ToTensor(),\n",
        ")"
      ],
      "metadata": {
        "id": "Z3IEFL_oSX70"
      },
      "execution_count": null,
      "outputs": []
    },
    {
      "cell_type": "code",
      "source": [
        "print(f\"Amount of training data: {len(training_data.targets)}, and test data: {len(test_data.targets)}\")"
      ],
      "metadata": {
        "colab": {
          "base_uri": "https://localhost:8080/"
        },
        "id": "R4f9ONTItCxa",
        "outputId": "f271eede-c431-46b9-f7ef-bc94b7a1e0e7"
      },
      "execution_count": null,
      "outputs": [
        {
          "output_type": "stream",
          "name": "stdout",
          "text": [
            "Amount of training data: 60000, and test data: 10000\n"
          ]
        }
      ]
    },
    {
      "cell_type": "markdown",
      "source": [
        "The **DataLoader** object wraps an iterable over our dataset sopporting automatic batching. More about Datasets and DataLoaders [here](https://pytorch.org/tutorials/beginner/basics/data_tutorial.html)"
      ],
      "metadata": {
        "id": "zAkkMgBHTHOt"
      }
    },
    {
      "cell_type": "code",
      "source": [
        "batch_size = 64\n",
        "\n",
        "# Create data loaders.\n",
        "train_dataloader = DataLoader(training_data, batch_size=batch_size)\n",
        "test_dataloader = DataLoader(test_data, batch_size=batch_size)\n",
        "\n",
        "for X, y in test_dataloader:\n",
        "    print(f\"Shape of X [N, C, H, W]: {X.shape}\")\n",
        "    print(f\"Shape of y: {y.shape} {y.dtype}\")\n",
        "    break"
      ],
      "metadata": {
        "colab": {
          "base_uri": "https://localhost:8080/"
        },
        "id": "HrVXt7vASsfi",
        "outputId": "900dd767-c3c0-4fdf-cdea-42b374139ec3"
      },
      "execution_count": null,
      "outputs": [
        {
          "output_type": "stream",
          "name": "stdout",
          "text": [
            "Shape of X [N, C, H, W]: torch.Size([64, 1, 28, 28])\n",
            "Shape of y: torch.Size([64]) torch.int64\n"
          ]
        }
      ]
    },
    {
      "cell_type": "markdown",
      "source": [
        "### Data visualization"
      ],
      "metadata": {
        "id": "SKv9s0_0ctJ_"
      }
    },
    {
      "cell_type": "code",
      "source": [
        "labels_map = {\n",
        "    0: \"T-Shirt\",\n",
        "    1: \"Trouser\",\n",
        "    2: \"Pullover\",\n",
        "    3: \"Dress\",\n",
        "    4: \"Coat\",\n",
        "    5: \"Sandal\",\n",
        "    6: \"Shirt\",\n",
        "    7: \"Sneaker\",\n",
        "    8: \"Bag\",\n",
        "    9: \"Ankle Boot\",\n",
        "}\n",
        "figure = plt.figure(figsize=(8, 8))\n",
        "cols, rows = 3, 3\n",
        "for i in range(1, cols * rows + 1):\n",
        "    sample_idx = torch.randint(len(training_data), size=(1,)).item()\n",
        "    img, label = training_data[sample_idx]\n",
        "    figure.add_subplot(rows, cols, i)\n",
        "    plt.title(labels_map[label])\n",
        "    plt.axis(\"off\")\n",
        "    plt.imshow(img.squeeze(), cmap=\"gray\")\n",
        "plt.show()"
      ],
      "metadata": {
        "colab": {
          "base_uri": "https://localhost:8080/",
          "height": 482
        },
        "id": "_Wo7Z2znTjaV",
        "outputId": "5be1f2de-7009-4c9d-d6a5-1c90d4b48df5"
      },
      "execution_count": null,
      "outputs": [
        {
          "output_type": "display_data",
          "data": {
            "text/plain": [
              "<Figure size 576x576 with 9 Axes>"
            ],
            "image/png": "[encoded data removed]"
          },
          "metadata": {
            "needs_background": "light"
          }
        }
      ]
    },
    {
      "cell_type": "markdown",
      "source": [
        "## **Creating model**\n",
        "* **__init__ function**: define the network's layers\n",
        "* **forward function**: how the data will pass through net's layers"
      ],
      "metadata": {
        "id": "TyLnFYoBduBO"
      }
    },
    {
      "cell_type": "code",
      "source": [
        "#first set the running device\n",
        "device = \"cuda\" if torch.cuda.is_available() else \"cpu\"\n",
        "print(f\"Running on: {device} device\")\n",
        "\n",
        "#Defining the model\n",
        "class NeuralNetwork(nn.Module):\n",
        "  def __init__(self):\n",
        "    super(NeuralNetwork, self).__init__()\n",
        "    self.flatten = nn.Flatten()\n",
        "    self.linear_relu_stack = nn.Sequential(nn.Linear(in_features=28*28, out_features=512),\n",
        "                                           nn.ReLU(),\n",
        "                                           nn.Linear(512, 512),\n",
        "                                           nn.ReLU(),\n",
        "                                           nn.Linear(512, 10))\n",
        "    \n",
        "  def forward(self, x):\n",
        "    x = self.flatten(x)\n",
        "    logits = self.linear_relu_stack(x)\n",
        "    return logits"
      ],
      "metadata": {
        "colab": {
          "base_uri": "https://localhost:8080/"
        },
        "id": "Vrxk5zqxTk7C",
        "outputId": "01fc917e-053b-41b2-f020-cc78648dd04c"
      },
      "execution_count": null,
      "outputs": [
        {
          "output_type": "stream",
          "name": "stdout",
          "text": [
            "Running on: cuda device\n"
          ]
        }
      ]
    },
    {
      "cell_type": "code",
      "source": [
        "#let's have a model look\n",
        "model = NeuralNetwork().to(device)\n",
        "print(model)"
      ],
      "metadata": {
        "colab": {
          "base_uri": "https://localhost:8080/"
        },
        "id": "745p1v67gEeW",
        "outputId": "d97e9c1b-85bd-48bc-c044-3b4263e572a4"
      },
      "execution_count": null,
      "outputs": [
        {
          "output_type": "stream",
          "name": "stdout",
          "text": [
            "NeuralNetwork(\n",
            "  (flatten): Flatten(start_dim=1, end_dim=-1)\n",
            "  (linear_relu_stack): Sequential(\n",
            "    (0): Linear(in_features=784, out_features=512, bias=True)\n",
            "    (1): ReLU()\n",
            "    (2): Linear(in_features=512, out_features=512, bias=True)\n",
            "    (3): ReLU()\n",
            "    (4): Linear(in_features=512, out_features=10, bias=True)\n",
            "  )\n",
            ")\n"
          ]
        }
      ]
    },
    {
      "cell_type": "markdown",
      "source": [
        "if you want to know more about pretrained models available [click here](https://pytorch.org/vision/stable/models.html)"
      ],
      "metadata": {
        "id": "QZE5Lg-Yaw9H"
      }
    },
    {
      "cell_type": "markdown",
      "source": [
        "## **Optimizing model parameters**\n",
        "\n",
        "For train the network we need a loss function (all loss functions available [here](https://pytorch.org/docs/stable/nn.html#loss-functions)) and optimizer"
      ],
      "metadata": {
        "id": "_RoComy3ijLg"
      }
    },
    {
      "cell_type": "code",
      "source": [
        "loss_fn = nn.CrossEntropyLoss()\n",
        "optimizer = torch.optim.SGD(model.parameters(), lr=1e-3)"
      ],
      "metadata": {
        "id": "b6gTmlEeiaVu"
      },
      "execution_count": null,
      "outputs": []
    },
    {
      "cell_type": "code",
      "source": [
        "#training loop\n",
        "def training(model, dataloader, loss_fn, optimizer):\n",
        "  size = len(dataloader.dataset)#actual dataset size\n",
        "  model.train()\n",
        "  for batch_id, (X, y) in enumerate(dataloader):\n",
        "    X, y = X.to(device), y.to(device)\n",
        "    \n",
        "    #getting the class predictions\n",
        "    pred = model(X)\n",
        "    #computing the loss\n",
        "    loss = loss_fn(pred, y)\n",
        "\n",
        "    # weights update\n",
        "    optimizer.zero_grad() # to \"clean\" the gradients memory\n",
        "    loss.backward() # chain rule \n",
        "    optimizer.step() # weights updating\n",
        "\n",
        "    if batch_id % 100 == 0:\n",
        "      loss, current_sample = loss.item(), batch_id*len(X)\n",
        "      print(f\"loss: {loss:>3f} [{current_sample:>5d}/{size:>5d}]\")"
      ],
      "metadata": {
        "id": "rThH5l4ij5JC"
      },
      "execution_count": null,
      "outputs": []
    },
    {
      "cell_type": "code",
      "source": [
        "#test loop\n",
        "def test(model, dataloader, loss_fn):\n",
        "  size = len(dataloader.dataset)#amount of available data\n",
        "  num_batches = len(dataloader) \n",
        "  model.eval()#avoid the model learning\n",
        "  test_loss, correct = 0, 0\n",
        "  # no gradients calculation\n",
        "  with torch.no_grad():\n",
        "    for X, y in dataloader:\n",
        "      X, y = X.to(device), y.to(device)\n",
        "      #get the predictions\n",
        "      pred = model(X)\n",
        "      #computing the loss \n",
        "      test_loss += loss_fn(pred, y).item() #Returns the value of this tensor as a standard Python number\n",
        "      correct += (pred.argmax(1)==y).type(torch.float).sum().item()\n",
        "  \n",
        "  test_loss /= num_batches\n",
        "  correct /= size\n",
        "  acc = 100*correct\n",
        "  print(f\"Test error: \\n Acc: {(acc):>0.1f}%, avg loss: {test_loss:>8f}\\n\")"
      ],
      "metadata": {
        "id": "WKfJidVcno0w"
      },
      "execution_count": null,
      "outputs": []
    },
    {
      "cell_type": "code",
      "source": [
        "epochs = 5\n",
        "for i in range(epochs):\n",
        "  print(f\"Epoch {i+1}\\n ---------------------------\")\n",
        "  training(model, train_dataloader, loss_fn, optimizer)\n",
        "  test(model, test_dataloader, loss_fn)\n",
        "print(\"done\")"
      ],
      "metadata": {
        "colab": {
          "base_uri": "https://localhost:8080/"
        },
        "id": "iZDp1lmsoMr4",
        "outputId": "0425b4bc-6d7b-4148-f740-5e28cdb03fd7"
      },
      "execution_count": null,
      "outputs": [
        {
          "output_type": "stream",
          "name": "stdout",
          "text": [
            "Epoch 1\n",
            " ---------------------------\n",
            "loss: 2.300589 [    0/60000]\n",
            "loss: 2.290185 [ 6400/60000]\n",
            "loss: 2.267891 [12800/60000]\n",
            "loss: 2.270879 [19200/60000]\n",
            "loss: 2.235893 [25600/60000]\n",
            "loss: 2.216253 [32000/60000]\n",
            "loss: 2.230269 [38400/60000]\n",
            "loss: 2.184785 [44800/60000]\n",
            "loss: 2.194162 [51200/60000]\n",
            "loss: 2.159749 [57600/60000]\n",
            "Test error: \n",
            " Acc: 46.1%, avg loss: 2.146557\n",
            "\n",
            "Epoch 2\n",
            " ---------------------------\n",
            "loss: 2.155737 [    0/60000]\n",
            "loss: 2.147227 [ 6400/60000]\n",
            "loss: 2.078121 [12800/60000]\n",
            "loss: 2.103073 [19200/60000]\n",
            "loss: 2.045417 [25600/60000]\n",
            "loss: 1.986323 [32000/60000]\n",
            "loss: 2.026939 [38400/60000]\n",
            "loss: 1.930722 [44800/60000]\n",
            "loss: 1.946407 [51200/60000]\n",
            "loss: 1.877051 [57600/60000]\n",
            "Test error: \n",
            " Acc: 54.8%, avg loss: 1.863845\n",
            "\n",
            "Epoch 3\n",
            " ---------------------------\n",
            "loss: 1.898866 [    0/60000]\n",
            "loss: 1.871133 [ 6400/60000]\n",
            "loss: 1.736239 [12800/60000]\n",
            "loss: 1.787665 [19200/60000]\n",
            "loss: 1.683090 [25600/60000]\n",
            "loss: 1.633758 [32000/60000]\n",
            "loss: 1.672157 [38400/60000]\n",
            "loss: 1.560990 [44800/60000]\n",
            "loss: 1.591211 [51200/60000]\n",
            "loss: 1.495736 [57600/60000]\n",
            "Test error: \n",
            " Acc: 61.3%, avg loss: 1.503389\n",
            "\n",
            "Epoch 4\n",
            " ---------------------------\n",
            "loss: 1.569900 [    0/60000]\n",
            "loss: 1.542314 [ 6400/60000]\n",
            "loss: 1.378497 [12800/60000]\n",
            "loss: 1.460077 [19200/60000]\n",
            "loss: 1.351484 [25600/60000]\n",
            "loss: 1.342817 [32000/60000]\n",
            "loss: 1.370916 [38400/60000]\n",
            "loss: 1.287742 [44800/60000]\n",
            "loss: 1.321630 [51200/60000]\n",
            "loss: 1.229444 [57600/60000]\n",
            "Test error: \n",
            " Acc: 63.7%, avg loss: 1.249078\n",
            "\n",
            "Epoch 5\n",
            " ---------------------------\n",
            "loss: 1.322698 [    0/60000]\n",
            "loss: 1.313762 [ 6400/60000]\n",
            "loss: 1.135674 [12800/60000]\n",
            "loss: 1.247137 [19200/60000]\n",
            "loss: 1.132508 [25600/60000]\n",
            "loss: 1.150513 [32000/60000]\n",
            "loss: 1.182845 [38400/60000]\n",
            "loss: 1.115271 [44800/60000]\n",
            "loss: 1.150770 [51200/60000]\n",
            "loss: 1.069509 [57600/60000]\n",
            "Test error: \n",
            " Acc: 64.9%, avg loss: 1.086904\n",
            "\n",
            "done\n"
          ]
        }
      ]
    },
    {
      "cell_type": "markdown",
      "source": [
        "## **Saving our model**\n",
        "A common way to save a model is to serialize the internal state dictionary (containing the model parameters)."
      ],
      "metadata": {
        "id": "72wuuTkUt0OL"
      }
    },
    {
      "cell_type": "code",
      "source": [
        "model.state_dict()"
      ],
      "metadata": {
        "colab": {
          "base_uri": "https://localhost:8080/"
        },
        "id": "00TVtN4zhfVp",
        "outputId": "65fe5e4e-33c6-4939-a8e2-b582579be275"
      },
      "execution_count": null,
      "outputs": [
        {
          "output_type": "execute_result",
          "data": {
            "text/plain": [
              "OrderedDict([('linear_relu_stack.0.weight',\n",
              "              tensor([[ 1.9483e-03, -1.4831e-02, -1.4482e-02,  ..., -3.5126e-02,\n",
              "                       -2.4499e-02,  1.9545e-02],\n",
              "                      [ 1.9239e-02,  7.3755e-03, -1.3604e-02,  ...,  2.4648e-02,\n",
              "                        1.3223e-02, -1.5867e-02],\n",
              "                      [ 3.5655e-02, -7.8210e-05, -2.8206e-03,  ..., -1.6643e-02,\n",
              "                       -8.9523e-03, -7.5431e-03],\n",
              "                      ...,\n",
              "                      [-3.2757e-02,  1.2092e-02,  2.7388e-02,  ..., -7.2903e-03,\n",
              "                        2.1290e-02, -3.0681e-02],\n",
              "                      [ 1.7431e-02,  2.3872e-02, -2.7612e-02,  ...,  1.8316e-02,\n",
              "                       -1.3312e-02, -1.2902e-02],\n",
              "                      [ 2.4006e-02, -2.5796e-03, -1.8922e-02,  ...,  2.6491e-02,\n",
              "                        6.1834e-03,  1.2472e-02]], device='cuda:0')),\n",
              "             ('linear_relu_stack.0.bias',\n",
              "              tensor([-0.0170,  0.0221,  0.0279,  0.0277,  0.0281, -0.0227,  0.0476,  0.0149,\n",
              "                      -0.0324, -0.0216, -0.0299,  0.0208,  0.0084, -0.0215, -0.0163, -0.0040,\n",
              "                       0.0335,  0.0081, -0.0137, -0.0048,  0.0208,  0.0499,  0.0209, -0.0208,\n",
              "                       0.0172,  0.0128,  0.0105,  0.0154,  0.0299,  0.0032,  0.0154, -0.0170,\n",
              "                      -0.0196, -0.0024,  0.0379,  0.0130,  0.0397,  0.0128, -0.0069, -0.0141,\n",
              "                       0.0423,  0.0269, -0.0215, -0.0131, -0.0267, -0.0159, -0.0175,  0.0378,\n",
              "                       0.0348, -0.0210,  0.0207,  0.0066,  0.0284,  0.0252, -0.0151, -0.0060,\n",
              "                       0.0430,  0.0279, -0.0051, -0.0237, -0.0215, -0.0170, -0.0267, -0.0333,\n",
              "                       0.0357, -0.0109, -0.0175,  0.0297,  0.0153,  0.0507, -0.0205, -0.0199,\n",
              "                       0.0112,  0.0159, -0.0076,  0.0171,  0.0266,  0.0092,  0.0302,  0.0009,\n",
              "                       0.0424,  0.0223, -0.0308, -0.0132,  0.0237,  0.0319, -0.0078,  0.0233,\n",
              "                       0.0189,  0.0367, -0.0294, -0.0073, -0.0034, -0.0356, -0.0214, -0.0160,\n",
              "                      -0.0044,  0.0148, -0.0284,  0.0378,  0.0294, -0.0191,  0.0234,  0.0007,\n",
              "                      -0.0244,  0.0197, -0.0221,  0.0094,  0.0019,  0.0117, -0.0144, -0.0107,\n",
              "                      -0.0107, -0.0037,  0.0290, -0.0157,  0.0340,  0.0218,  0.0138,  0.0190,\n",
              "                       0.0214, -0.0288,  0.0285, -0.0098,  0.0450,  0.0028,  0.0172,  0.0120,\n",
              "                      -0.0073, -0.0358,  0.0027, -0.0108,  0.0047, -0.0346, -0.0287, -0.0057,\n",
              "                       0.0050, -0.0264, -0.0243, -0.0223,  0.0032, -0.0079, -0.0221, -0.0037,\n",
              "                      -0.0110,  0.0511, -0.0070, -0.0202,  0.0099, -0.0093,  0.0311,  0.0024,\n",
              "                      -0.0134, -0.0265, -0.0307,  0.0513,  0.0303,  0.0359, -0.0239,  0.0132,\n",
              "                      -0.0186,  0.0028,  0.0380,  0.0062, -0.0046,  0.0038,  0.0003,  0.0413,\n",
              "                       0.0297,  0.0056, -0.0286, -0.0315,  0.0199, -0.0316, -0.0082, -0.0031,\n",
              "                      -0.0063, -0.0086,  0.0255,  0.0229,  0.0037,  0.0061,  0.0188,  0.0284,\n",
              "                       0.0178, -0.0023, -0.0088,  0.0165, -0.0151,  0.0046, -0.0347,  0.0381,\n",
              "                      -0.0305,  0.0266, -0.0220, -0.0329,  0.0416, -0.0118, -0.0323, -0.0126,\n",
              "                      -0.0108, -0.0160,  0.0367, -0.0184,  0.0251, -0.0248,  0.0188, -0.0261,\n",
              "                       0.0404, -0.0268, -0.0066,  0.0090, -0.0097, -0.0014,  0.0033,  0.0334,\n",
              "                       0.0045, -0.0030, -0.0227, -0.0092,  0.0064,  0.0049, -0.0097,  0.0049,\n",
              "                       0.0197,  0.0060,  0.0281,  0.0285, -0.0207, -0.0334,  0.0088,  0.0335,\n",
              "                      -0.0132,  0.0072,  0.0324, -0.0325,  0.0016,  0.0108,  0.0105,  0.0144,\n",
              "                       0.0061,  0.0193,  0.0275,  0.0231,  0.0160, -0.0094,  0.0397,  0.0197,\n",
              "                       0.0019,  0.0058,  0.0164, -0.0058,  0.0113, -0.0218, -0.0221, -0.0020,\n",
              "                      -0.0024,  0.0265,  0.0055, -0.0173,  0.0003,  0.0263,  0.0161, -0.0165,\n",
              "                       0.0392,  0.0278, -0.0251,  0.0333, -0.0107,  0.0134,  0.0125,  0.0004,\n",
              "                      -0.0077, -0.0026,  0.0001, -0.0044, -0.0051,  0.0101, -0.0295,  0.0051,\n",
              "                      -0.0166,  0.0213,  0.0373, -0.0037, -0.0168,  0.0306,  0.0035, -0.0287,\n",
              "                       0.0253,  0.0341, -0.0213, -0.0108, -0.0020,  0.0428,  0.0150, -0.0074,\n",
              "                       0.0417, -0.0048, -0.0361, -0.0273,  0.0083,  0.0315,  0.0320,  0.0026,\n",
              "                       0.0238,  0.0069, -0.0158,  0.0074,  0.0189, -0.0113,  0.0246,  0.0222,\n",
              "                       0.0295, -0.0160,  0.0017, -0.0358,  0.0537,  0.0041,  0.0314, -0.0094,\n",
              "                       0.0066, -0.0076,  0.0050,  0.0035,  0.0283, -0.0134,  0.0364, -0.0137,\n",
              "                       0.0348, -0.0204, -0.0138,  0.0206,  0.0032, -0.0042, -0.0191,  0.0238,\n",
              "                       0.0175,  0.0542, -0.0210, -0.0335, -0.0338, -0.0194, -0.0059, -0.0242,\n",
              "                       0.0336,  0.0386,  0.0300,  0.0013,  0.0071, -0.0249, -0.0251,  0.0121,\n",
              "                      -0.0273, -0.0061, -0.0012, -0.0093, -0.0214,  0.0118,  0.0349,  0.0182,\n",
              "                       0.0020, -0.0184, -0.0176,  0.0360,  0.0356, -0.0227,  0.0173,  0.0030,\n",
              "                       0.0282,  0.0103, -0.0078, -0.0142, -0.0076, -0.0199,  0.0191,  0.0238,\n",
              "                       0.0189, -0.0198, -0.0234,  0.0128,  0.0166,  0.0147,  0.0073, -0.0088,\n",
              "                      -0.0092,  0.0327,  0.0212, -0.0161, -0.0291,  0.0131, -0.0123,  0.0181,\n",
              "                       0.0357,  0.0015,  0.0319, -0.0024, -0.0179, -0.0127, -0.0124, -0.0338,\n",
              "                       0.0053, -0.0134, -0.0195,  0.0163, -0.0326,  0.0313,  0.0087, -0.0276,\n",
              "                      -0.0160, -0.0143,  0.0026, -0.0332,  0.0088,  0.0143,  0.0315,  0.0233,\n",
              "                      -0.0061, -0.0163,  0.0247,  0.0395,  0.0128,  0.0098,  0.0379,  0.0048,\n",
              "                       0.0030,  0.0211, -0.0318,  0.0237, -0.0245, -0.0004,  0.0387, -0.0373,\n",
              "                       0.0068,  0.0057,  0.0162, -0.0203, -0.0008,  0.0391,  0.0087, -0.0216,\n",
              "                      -0.0319,  0.0131, -0.0256, -0.0142,  0.0316, -0.0129,  0.0450, -0.0144,\n",
              "                      -0.0069,  0.0349,  0.0174,  0.0004,  0.0277,  0.0175,  0.0146,  0.0330,\n",
              "                      -0.0071,  0.0288,  0.0233, -0.0249,  0.0011,  0.0022,  0.0053,  0.0149,\n",
              "                       0.0305,  0.0140, -0.0151,  0.0256,  0.0149, -0.0330, -0.0071, -0.0069,\n",
              "                       0.0266,  0.0188,  0.0044,  0.0072,  0.0131, -0.0061,  0.0179,  0.0225,\n",
              "                       0.0093, -0.0099,  0.0006,  0.0257,  0.0140, -0.0264, -0.0294,  0.0185,\n",
              "                      -0.0259, -0.0196, -0.0074, -0.0176,  0.0215,  0.0125, -0.0098,  0.0185,\n",
              "                       0.0344,  0.0108, -0.0037,  0.0049, -0.0043, -0.0162, -0.0020, -0.0196,\n",
              "                      -0.0102, -0.0231, -0.0049, -0.0018, -0.0141,  0.0163, -0.0372,  0.0320],\n",
              "                     device='cuda:0')),\n",
              "             ('linear_relu_stack.2.weight',\n",
              "              tensor([[ 0.0240,  0.0042,  0.0107,  ..., -0.0395, -0.0071,  0.0318],\n",
              "                      [ 0.0001, -0.0241, -0.0423,  ...,  0.0342, -0.0146,  0.0424],\n",
              "                      [ 0.0327,  0.0294,  0.0425,  ..., -0.0215, -0.0285, -0.0247],\n",
              "                      ...,\n",
              "                      [-0.0180, -0.0280, -0.0355,  ..., -0.0154, -0.0275,  0.0106],\n",
              "                      [-0.0228, -0.0118, -0.0297,  ...,  0.0045, -0.0334,  0.0360],\n",
              "                      [-0.0148, -0.0284, -0.0335,  ..., -0.0270, -0.0379, -0.0202]],\n",
              "                     device='cuda:0')),\n",
              "             ('linear_relu_stack.2.bias',\n",
              "              tensor([-0.0283,  0.0018,  0.0324, -0.0371, -0.0110,  0.0469,  0.0310,  0.0104,\n",
              "                       0.0156,  0.0136,  0.0373, -0.0124,  0.0423,  0.0320, -0.0129, -0.0002,\n",
              "                      -0.0024, -0.0002,  0.0401, -0.0283, -0.0172,  0.0037, -0.0049, -0.0154,\n",
              "                       0.0058,  0.0048, -0.0426, -0.0431,  0.0168,  0.0620,  0.0299, -0.0229,\n",
              "                       0.0143, -0.0219,  0.0263, -0.0020, -0.0015, -0.0184,  0.0462,  0.0203,\n",
              "                      -0.0085,  0.0482, -0.0406, -0.0292,  0.0093, -0.0590,  0.0231, -0.0193,\n",
              "                      -0.0204, -0.0182, -0.0171, -0.0184,  0.0031,  0.0313, -0.0151,  0.0515,\n",
              "                      -0.0375, -0.0170, -0.0270,  0.0121, -0.0130, -0.0013,  0.0292, -0.0168,\n",
              "                      -0.0076, -0.0257, -0.0382, -0.0165,  0.0444,  0.0216,  0.0339, -0.0036,\n",
              "                      -0.0095,  0.0031, -0.0117,  0.0426,  0.0014, -0.0357, -0.0005, -0.0242,\n",
              "                       0.0198,  0.0228, -0.0198, -0.0318,  0.0019, -0.0179,  0.0042, -0.0179,\n",
              "                       0.0338,  0.0415,  0.0161,  0.0272,  0.0300,  0.0360,  0.0182,  0.0541,\n",
              "                      -0.0006, -0.0445,  0.0245, -0.0445,  0.0534,  0.0106, -0.0393,  0.0021,\n",
              "                      -0.0221, -0.0497, -0.0068,  0.0219, -0.0293, -0.0393,  0.0244,  0.0008,\n",
              "                      -0.0284, -0.0114,  0.0286, -0.0134,  0.0193,  0.0309, -0.0049,  0.0291,\n",
              "                      -0.0073,  0.0316, -0.0429,  0.0222, -0.0207,  0.0303, -0.0229, -0.0332,\n",
              "                      -0.0114,  0.0657,  0.0372,  0.0105,  0.0234, -0.0027,  0.0223,  0.0020,\n",
              "                      -0.0128, -0.0401, -0.0388, -0.0339,  0.0366,  0.0442,  0.0054,  0.0210,\n",
              "                       0.0190, -0.0120,  0.0374, -0.0048,  0.0360,  0.0247, -0.0061, -0.0321,\n",
              "                       0.0163,  0.0079,  0.0164, -0.0167,  0.0306,  0.0192, -0.0377, -0.0213,\n",
              "                      -0.0209,  0.0103, -0.0042,  0.0503, -0.0463, -0.0428,  0.0327,  0.0155,\n",
              "                       0.0493,  0.0018,  0.0129,  0.0391,  0.0332, -0.0215, -0.0127,  0.0019,\n",
              "                      -0.0097, -0.0096,  0.0359, -0.0211, -0.0456,  0.0052,  0.0148, -0.0285,\n",
              "                       0.0015,  0.0258, -0.0362, -0.0158, -0.0128,  0.0736, -0.0423,  0.0385,\n",
              "                      -0.0427, -0.0368,  0.0243, -0.0302, -0.0238, -0.0090, -0.0177,  0.0405,\n",
              "                       0.0193,  0.0539,  0.0004,  0.0070, -0.0192,  0.0519, -0.0019, -0.0058,\n",
              "                       0.0016,  0.0072, -0.0122,  0.0173,  0.0052,  0.0260,  0.0211,  0.0402,\n",
              "                       0.0779, -0.0274, -0.0254,  0.0224, -0.0391, -0.0278,  0.0222, -0.0215,\n",
              "                       0.0188, -0.0133, -0.0154,  0.0059,  0.0653,  0.0005,  0.0507, -0.0328,\n",
              "                       0.0393, -0.0094, -0.0215, -0.0369,  0.0039, -0.0284, -0.0087, -0.0327,\n",
              "                       0.0291,  0.0269, -0.0459, -0.0191,  0.0095,  0.0644, -0.0463,  0.0144,\n",
              "                      -0.0047, -0.0068, -0.0142, -0.0364,  0.0263,  0.0300,  0.0222, -0.0358,\n",
              "                       0.0291, -0.0219, -0.0289, -0.0160,  0.0541,  0.0054,  0.0014, -0.0395,\n",
              "                      -0.0303, -0.0324, -0.0036,  0.0142,  0.0185, -0.0073, -0.0042,  0.0036,\n",
              "                       0.0042, -0.0149, -0.0086,  0.0533,  0.0259,  0.0194, -0.0038, -0.0126,\n",
              "                      -0.0236,  0.0115,  0.0445,  0.0094,  0.0492,  0.0085, -0.0317,  0.0147,\n",
              "                      -0.0421, -0.0327, -0.0415, -0.0012, -0.0319, -0.0029, -0.0141, -0.0234,\n",
              "                       0.0276,  0.0416,  0.0497, -0.0267,  0.0069,  0.0091, -0.0227, -0.0417,\n",
              "                       0.0352, -0.0341, -0.0402,  0.0324, -0.0021,  0.0169,  0.0541,  0.0464,\n",
              "                       0.0028,  0.0176,  0.0514, -0.0017, -0.0228,  0.0288,  0.0223, -0.0004,\n",
              "                       0.0226, -0.0138,  0.0717,  0.0322,  0.0178,  0.0391,  0.0538, -0.0232,\n",
              "                      -0.0448,  0.0311, -0.0155,  0.0159, -0.0216,  0.0377, -0.0117,  0.0118,\n",
              "                      -0.0063,  0.0394, -0.0291, -0.0067, -0.0310,  0.0338, -0.0265,  0.0240,\n",
              "                       0.0502,  0.0125,  0.0419,  0.0184,  0.0172, -0.0163, -0.0091, -0.0368,\n",
              "                      -0.0193, -0.0371,  0.0075,  0.0274,  0.0032,  0.0343,  0.0485,  0.0319,\n",
              "                       0.0025,  0.0100,  0.0741,  0.0286, -0.0086, -0.0514, -0.0393, -0.0279,\n",
              "                       0.0589, -0.0424, -0.0076,  0.0353, -0.0284,  0.0319,  0.0313, -0.0047,\n",
              "                       0.0348, -0.0010,  0.0125,  0.0084,  0.0171, -0.0192, -0.0233, -0.0384,\n",
              "                      -0.0483,  0.0520,  0.0027,  0.0384, -0.0209,  0.0024,  0.0312,  0.0211,\n",
              "                       0.0081,  0.0401,  0.0594, -0.0498, -0.0338, -0.0382,  0.0409,  0.0170,\n",
              "                       0.0686,  0.0349, -0.0270, -0.0247, -0.0213, -0.0045, -0.0255, -0.0018,\n",
              "                      -0.0124,  0.0359, -0.0464,  0.0615,  0.0154, -0.0220, -0.0281,  0.0388,\n",
              "                      -0.0033,  0.0184,  0.0043, -0.0354,  0.0299, -0.0393,  0.0343,  0.0298,\n",
              "                      -0.0327,  0.0361, -0.0274, -0.0490,  0.0060, -0.0073,  0.0064,  0.0363,\n",
              "                      -0.0109, -0.0309,  0.0086, -0.0103,  0.0371, -0.0164,  0.0102,  0.0120,\n",
              "                       0.0406, -0.0163, -0.0029, -0.0378,  0.0417,  0.0158,  0.0171,  0.0020,\n",
              "                       0.0233, -0.0122, -0.0181,  0.0450,  0.0298,  0.0231,  0.0181, -0.0325,\n",
              "                       0.0014,  0.0440,  0.0270, -0.0447,  0.0326,  0.0049, -0.0012,  0.0001,\n",
              "                       0.0636, -0.0112, -0.0215,  0.0250,  0.0155, -0.0201,  0.0380, -0.0129,\n",
              "                       0.0310,  0.0171,  0.0357,  0.0193, -0.0064, -0.0236, -0.0158,  0.0067,\n",
              "                       0.0293,  0.0576, -0.0152,  0.0241,  0.0260,  0.0090,  0.0206, -0.0401,\n",
              "                      -0.0019,  0.0384, -0.0175,  0.0368, -0.0242,  0.0681, -0.0177, -0.0209,\n",
              "                       0.0509,  0.0094, -0.0427, -0.0331,  0.0506,  0.0006,  0.0293, -0.0357,\n",
              "                       0.0205, -0.0092,  0.0471,  0.0279,  0.0071, -0.0167, -0.0291,  0.0202],\n",
              "                     device='cuda:0')),\n",
              "             ('linear_relu_stack.4.weight',\n",
              "              tensor([[ 0.0484,  0.0226,  0.0335,  ..., -0.0003, -0.0314,  0.0054],\n",
              "                      [-0.0475, -0.0141,  0.1000,  ..., -0.0029,  0.0163,  0.0007],\n",
              "                      [ 0.0298, -0.0107, -0.0515,  ..., -0.0370, -0.0074,  0.0419],\n",
              "                      ...,\n",
              "                      [-0.0579,  0.0478, -0.0274,  ..., -0.0125,  0.1316,  0.0234],\n",
              "                      [ 0.0215,  0.0327, -0.0612,  ..., -0.0278, -0.0052, -0.0040],\n",
              "                      [-0.0421,  0.1069, -0.0457,  ...,  0.0291, -0.0061, -0.0099]],\n",
              "                     device='cuda:0')),\n",
              "             ('linear_relu_stack.4.bias',\n",
              "              tensor([-5.6333e-02,  1.5183e-02, -3.3212e-02,  2.2197e-05, -1.0365e-01,\n",
              "                       2.6665e-01, -7.6125e-03,  6.7111e-02, -6.2224e-02, -7.2945e-02],\n",
              "                     device='cuda:0'))])"
            ]
          },
          "metadata": {},
          "execution_count": 16
        }
      ]
    },
    {
      "cell_type": "code",
      "source": [
        "model_name = \"my_first_model.pth\"\n",
        "model_pth = \"/content/drive/MyDrive/Cursos/pytorch/models/\" + model_name"
      ],
      "metadata": {
        "id": "joI3Hvx0iYX5"
      },
      "execution_count": null,
      "outputs": []
    },
    {
      "cell_type": "code",
      "source": [
        "torch.save(model.state_dict(), model_pth)\n",
        "print(\"Saved PyTorch Model State to model.pth\")"
      ],
      "metadata": {
        "colab": {
          "base_uri": "https://localhost:8080/"
        },
        "id": "sNpktIDvrUbS",
        "outputId": "25c07ca4-bcd1-4639-a5d4-c31cbb65f37b"
      },
      "execution_count": null,
      "outputs": [
        {
          "output_type": "stream",
          "name": "stdout",
          "text": [
            "Saved PyTorch Model State to model.pth\n"
          ]
        }
      ]
    },
    {
      "cell_type": "code",
      "source": [
        "model = NeuralNetwork()\n",
        "model.load_state_dict(torch.load(model_pth))\n",
        "print(\"model loaded correctly!\")"
      ],
      "metadata": {
        "colab": {
          "base_uri": "https://localhost:8080/"
        },
        "id": "MKqzju5wungS",
        "outputId": "64c75e1d-b34d-46eb-f537-8315c1266fe3"
      },
      "execution_count": null,
      "outputs": [
        {
          "output_type": "stream",
          "name": "stdout",
          "text": [
            "model loaded correctly!\n"
          ]
        }
      ]
    },
    {
      "cell_type": "code",
      "source": [
        "classes = [\n",
        "    \"T-shirt/top\",\n",
        "    \"Trouser\",\n",
        "    \"Pullover\",\n",
        "    \"Dress\",\n",
        "    \"Coat\",\n",
        "    \"Sandal\",\n",
        "    \"Shirt\",\n",
        "    \"Sneaker\",\n",
        "    \"Bag\",\n",
        "    \"Ankle boot\",\n",
        "]\n",
        "\n",
        "x, y = test_data[0][0], test_data[0][1]\n",
        "with torch.no_grad():\n",
        "  pred = model(x)\n",
        "  predicted, actual = classes[pred[0].argmax(0)], classes[y]\n",
        "  print(f\"Predicted: '{predicted}' Actual: '{actual}'\")"
      ],
      "metadata": {
        "colab": {
          "base_uri": "https://localhost:8080/"
        },
        "id": "8tk98AMYvBaR",
        "outputId": "546511ed-706f-49e7-c218-647c781722c1"
      },
      "execution_count": null,
      "outputs": [
        {
          "output_type": "stream",
          "name": "stdout",
          "text": [
            "Predicted: 'Ankle boot' Actual: 'Ankle boot'\n"
          ]
        }
      ]
    },
    {
      "cell_type": "markdown",
      "source": [
        "# **Using the save model as checkpoint for training step**\n"
      ],
      "metadata": {
        "id": "h0_xhivNykat"
      }
    },
    {
      "cell_type": "markdown",
      "source": [
        "### **checkpoint function**\n",
        "We want to save a chekpoint that allows us to use this information to continue our model traning or just for inference. This is the information:\n",
        "* **epoch:** numer of times that our model has seen data for weights update\n",
        "* **valid_loss_min:** the minimum val loss achieved during training phase\n",
        "* **state_dic:** model architecture information\n",
        "* **optimizer:** it computes individual learning rates for different parameters"
      ],
      "metadata": {
        "id": "NikthQn7nYzr"
      }
    },
    {
      "cell_type": "code",
      "source": [
        "loaders = {'train': train_dataloader,\n",
        "           'test': test_dataloader}\n",
        "\n",
        "use_cuda = torch.cuda.is_available()\n",
        "if use_cuda:\n",
        "  model = model.cuda()"
      ],
      "metadata": {
        "id": "hQyJwtwCyOgf"
      },
      "execution_count": null,
      "outputs": []
    },
    {
      "cell_type": "code",
      "source": [
        "def save_ckp(state, is_best, checkpoint_path, best_model_path):\n",
        "\n",
        "  \"\"\"\n",
        "  state: checkpoint we want to save\n",
        "  is_best: is this the best checkpoint; min validation loss\n",
        "  checkpoint_path: path to save checkpoint\n",
        "  best_model_path: path to save best model\n",
        "  \"\"\"\n",
        "  f_path = checkpoint_path\n",
        "  # save checkpoint data to the path given, checkpoint_path\n",
        "  torch.save(state, f_path)\n",
        "  # if it is a best model, min validation loss\n",
        "  if is_best:\n",
        "    best_fpath = best_model_path\n",
        "    # copy that checkpoint file to best path given, best_model_path\n",
        "    shutil.copyfile(f_path, best_fpath)"
      ],
      "metadata": {
        "id": "eVxnXXEzm7vd"
      },
      "execution_count": null,
      "outputs": []
    },
    {
      "cell_type": "markdown",
      "source": [
        "### **Loading function**"
      ],
      "metadata": {
        "id": "oH6A4BwDonNC"
      }
    },
    {
      "cell_type": "code",
      "source": [
        "def load_ckp(checkpoint_fpath, model, optimizer):\n",
        "  \"\"\"\n",
        "  checkpoint_path: path to save checkpoint\n",
        "  model: model that we want to load checkpoint parameters into       \n",
        "  optimizer: optimizer we defined in previous training\n",
        "  \"\"\"\n",
        "  # load check point\n",
        "  checkpoint = torch.load(checkpoint_fpath)\n",
        "  # initialize state_dict from checkpoint to model\n",
        "  model.load_state_dict(checkpoint['state_dict'])\n",
        "  # initialize optimizer from checkpoint to optimizer\n",
        "  optimizer.load_state_dict(checkpoint['optimizer'])\n",
        "  # initialize valid_loss_min from checkpoint to valid_loss_min\n",
        "  valid_loss_min = checkpoint['valid_loss_min']\n",
        "  # return model, optimizer, epoch value, min validation loss \n",
        "  return model, optimizer, checkpoint['epoch'], valid_loss_min.item()"
      ],
      "metadata": {
        "id": "qrSvl95NopeS"
      },
      "execution_count": null,
      "outputs": []
    },
    {
      "cell_type": "markdown",
      "source": [
        "### **Training**"
      ],
      "metadata": {
        "id": "F3jZkVy5q1OE"
      }
    },
    {
      "cell_type": "code",
      "source": [
        "def train(start_epochs, n_epochs, valid_loss_min_input, loaders, model, optimizer, criterion, use_cuda,\n",
        "          checkpoint_path, best_model_path):\n",
        "  \"\"\"\n",
        "  Keyword arguments:\n",
        "  start_epochs -- the real part (default 0.0)\n",
        "  n_epochs -- the imaginary part (default 0.0)\n",
        "  valid_loss_min_input\n",
        "  loaders\n",
        "  model\n",
        "  optimizer\n",
        "  criterion\n",
        "  checkpoint_path\n",
        "  best_model_path\n",
        "  \n",
        "  returns trained model\n",
        "  \"\"\"\n",
        "  # initialize tracker for minimum validation loss\n",
        "  valid_loss_min = valid_loss_min_input \n",
        "  \n",
        "  for epoch in range(start_epochs, n_epochs+1):\n",
        "      # initialize variables to monitor training and validation loss\n",
        "      train_loss = 0.0\n",
        "      valid_loss = 0.0\n",
        "      \n",
        "      ###################\n",
        "      # train the model #\n",
        "      ###################\n",
        "      model.train()\n",
        "      for batch_idx, (X, y) in enumerate(loaders['train']):\n",
        "        if use_cuda:\n",
        "          data, target = X.cuda(), y.cuda()\n",
        "\n",
        "        ## find the loss and update the model parameters accordingly\n",
        "        # clear the gradients of all optimized variables\n",
        "        optimizer.zero_grad()\n",
        "        # forward pass: compute predicted outputs by passing inputs to the model\n",
        "        output = model(data)\n",
        "        # calculate the batch loss\n",
        "        loss = criterion(output, target)\n",
        "        # backward pass: compute gradient of the loss with respect to model parameters\n",
        "        loss.backward()\n",
        "        # perform a single optimization step (parameter update)\n",
        "        optimizer.step()\n",
        "        ## record the average training loss, using something like\n",
        "        ## train_loss = train_loss + ((1 / (batch_idx + 1)) * (loss.data - train_loss))\n",
        "        train_loss = train_loss + ((1 / (batch_idx + 1)) * (loss.data - train_loss))\n",
        "      \n",
        "      ######################    \n",
        "      # validate the model #\n",
        "      ######################\n",
        "      model.eval()\n",
        "      for batch_idx, (X, y) in enumerate(loaders['test']):\n",
        "        if use_cuda:\n",
        "          data, target = X.cuda(), y.cuda()\n",
        "\n",
        "        ## update the average validation loss\n",
        "        # forward pass: compute predicted outputs by passing inputs to the model\n",
        "        output = model(data)\n",
        "        # calculate the batch loss\n",
        "        loss = criterion(output, target)\n",
        "        # update average validation loss \n",
        "        valid_loss = valid_loss + ((1 / (batch_idx + 1)) * (loss.data - valid_loss))\n",
        "          \n",
        "      # calculate average losses\n",
        "      train_loss = train_loss/len(loaders['train'].dataset)\n",
        "      valid_loss = valid_loss/len(loaders['test'].dataset)\n",
        "\n",
        "      # print training/validation statistics \n",
        "      print('Epoch: {} \\tTraining Loss: {:.6f} \\tValidation Loss: {:.6f}'.format(\n",
        "          epoch, \n",
        "          train_loss,\n",
        "          valid_loss\n",
        "          ))\n",
        "      \n",
        "      # create checkpoint variable and add important data\n",
        "      checkpoint = {\n",
        "          'epoch': epoch + 1,\n",
        "          'valid_loss_min': valid_loss,\n",
        "          'state_dict': model.state_dict(),\n",
        "          'optimizer': optimizer.state_dict(),\n",
        "      }\n",
        "      \n",
        "      # save checkpoint\n",
        "      save_ckp(checkpoint, False, checkpoint_path, best_model_path)\n",
        "      \n",
        "      ## TODO: save the model if validation loss has decreased\n",
        "      if valid_loss <= valid_loss_min:\n",
        "        print('Validation loss decreased ({:.6f} --> {:.6f}).  Saving model ...'.format(valid_loss_min,valid_loss))\n",
        "        # save checkpoint as best model\n",
        "        save_ckp(checkpoint, True, checkpoint_path, best_model_path)\n",
        "        valid_loss_min = valid_loss\n",
        "          \n",
        "  # return trained model\n",
        "  return model"
      ],
      "metadata": {
        "id": "_fkREHyzqqZk"
      },
      "execution_count": null,
      "outputs": []
    },
    {
      "cell_type": "code",
      "source": [
        "checkpoint_path = \"/content/drive/MyDrive/Cursos/pytorch/models/checkpoints/current_checkpoint.pt\"\n",
        "best_model_path = \"/content/drive/MyDrive/Cursos/pytorch/models/best_model/best_model.pt\"\n",
        "\n",
        "trained_model = train(start_epochs=1, n_epochs=5, valid_loss_min_input=np.Inf, loaders=loaders, \n",
        "                      model=model, optimizer=optimizer, criterion=loss_fn, use_cuda=use_cuda, checkpoint_path=checkpoint_path,\n",
        "                      best_model_path=best_model_path)"
      ],
      "metadata": {
        "colab": {
          "base_uri": "https://localhost:8080/"
        },
        "id": "Q-3c1gdFqqcd",
        "outputId": "d650ef24-17c5-420b-97d3-71d62457ffd3"
      },
      "execution_count": null,
      "outputs": [
        {
          "output_type": "stream",
          "name": "stdout",
          "text": [
            "Epoch: 1 \tTraining Loss: 0.000037 \tValidation Loss: 0.000215\n",
            "Validation loss decreased (inf --> 0.000215).  Saving model ...\n",
            "Epoch: 2 \tTraining Loss: 0.000034 \tValidation Loss: 0.000187\n",
            "Validation loss decreased (0.000215 --> 0.000187).  Saving model ...\n",
            "Epoch: 3 \tTraining Loss: 0.000028 \tValidation Loss: 0.000150\n",
            "Validation loss decreased (0.000187 --> 0.000150).  Saving model ...\n",
            "Epoch: 4 \tTraining Loss: 0.000023 \tValidation Loss: 0.000125\n",
            "Validation loss decreased (0.000150 --> 0.000125).  Saving model ...\n",
            "Epoch: 5 \tTraining Loss: 0.000019 \tValidation Loss: 0.000109\n",
            "Validation loss decreased (0.000125 --> 0.000109).  Saving model ...\n"
          ]
        }
      ]
    },
    {
      "cell_type": "markdown",
      "source": [
        "### **Loading the model**\n",
        "Reconstruct the model"
      ],
      "metadata": {
        "id": "1QX-eTiWwHDG"
      }
    },
    {
      "cell_type": "code",
      "source": [
        "my_model = NeuralNetwork()\n",
        "if use_cuda:\n",
        "  model = model.cuda()\n",
        "    \n",
        "print(model)"
      ],
      "metadata": {
        "id": "DvuGOsB_5XKF",
        "colab": {
          "base_uri": "https://localhost:8080/"
        },
        "outputId": "4e153eff-acd4-4755-f22f-13a2fba3f864"
      },
      "execution_count": null,
      "outputs": [
        {
          "output_type": "stream",
          "name": "stdout",
          "text": [
            "NeuralNetwork(\n",
            "  (flatten): Flatten(start_dim=1, end_dim=-1)\n",
            "  (linear_relu_stack): Sequential(\n",
            "    (0): Linear(in_features=784, out_features=512, bias=True)\n",
            "    (1): ReLU()\n",
            "    (2): Linear(in_features=512, out_features=512, bias=True)\n",
            "    (3): ReLU()\n",
            "    (4): Linear(in_features=512, out_features=10, bias=True)\n",
            "  )\n",
            ")\n"
          ]
        }
      ]
    },
    {
      "cell_type": "code",
      "source": [
        "loss_fn = nn.CrossEntropyLoss()\n",
        "optimizer = torch.optim.SGD(model.parameters(), lr=1e-3)\n",
        "checkpoint_path = \"/content/drive/MyDrive/Cursos/pytorch/models/checkpoints/current_checkpoint.pt\""
      ],
      "metadata": {
        "id": "JV797wEbwXH0"
      },
      "execution_count": null,
      "outputs": []
    },
    {
      "cell_type": "code",
      "source": [
        "# load the saved checkpoint\n",
        "model, optimizer, start_epoch, valid_loss_min = load_ckp(checkpoint_path, model, optimizer)"
      ],
      "metadata": {
        "id": "ofecIC1qxCHU"
      },
      "execution_count": null,
      "outputs": []
    },
    {
      "cell_type": "code",
      "source": [
        "#Making sure is everything ok\n",
        "print(\"model = \", model)\n",
        "print(\"optimizer = \", optimizer)\n",
        "print(\"start_epoch = \", start_epoch)\n",
        "print(\"valid_loss_min = \", valid_loss_min)\n",
        "print(\"valid_loss_min = {:.6f}\".format(valid_loss_min))"
      ],
      "metadata": {
        "colab": {
          "base_uri": "https://localhost:8080/"
        },
        "id": "U1C1sqP6xJfE",
        "outputId": "44c2d646-6520-4b38-cb1b-6f6cab731e1c"
      },
      "execution_count": null,
      "outputs": [
        {
          "output_type": "stream",
          "name": "stdout",
          "text": [
            "model =  NeuralNetwork(\n",
            "  (flatten): Flatten(start_dim=1, end_dim=-1)\n",
            "  (linear_relu_stack): Sequential(\n",
            "    (0): Linear(in_features=784, out_features=512, bias=True)\n",
            "    (1): ReLU()\n",
            "    (2): Linear(in_features=512, out_features=512, bias=True)\n",
            "    (3): ReLU()\n",
            "    (4): Linear(in_features=512, out_features=10, bias=True)\n",
            "  )\n",
            ")\n",
            "optimizer =  SGD (\n",
            "Parameter Group 0\n",
            "    dampening: 0\n",
            "    foreach: None\n",
            "    lr: 0.001\n",
            "    maximize: False\n",
            "    momentum: 0\n",
            "    nesterov: False\n",
            "    weight_decay: 0\n",
            ")\n",
            "start_epoch =  6\n",
            "valid_loss_min =  0.0001092103193514049\n",
            "valid_loss_min = 0.000109\n"
          ]
        }
      ]
    },
    {
      "cell_type": "markdown",
      "source": [
        "### **Continue training**"
      ],
      "metadata": {
        "id": "fQmbOcmjxi24"
      }
    },
    {
      "cell_type": "code",
      "source": [
        "trained_model = train(start_epoch, n_epochs=10, valid_loss_min_input=valid_loss_min, loaders=loaders, \n",
        "                      model=model, optimizer=optimizer, criterion=loss_fn, use_cuda=use_cuda, checkpoint_path=checkpoint_path,\n",
        "                      best_model_path=best_model_path)"
      ],
      "metadata": {
        "colab": {
          "base_uri": "https://localhost:8080/"
        },
        "id": "2xHtzw8zxSqS",
        "outputId": "ca402f47-3682-461e-91f0-d4761b0d9656"
      },
      "execution_count": null,
      "outputs": [
        {
          "output_type": "stream",
          "name": "stdout",
          "text": [
            "Epoch: 6 \tTraining Loss: 0.000017 \tValidation Loss: 0.000099\n",
            "Validation loss decreased (0.000109 --> 0.000099).  Saving model ...\n",
            "Epoch: 7 \tTraining Loss: 0.000016 \tValidation Loss: 0.000092\n",
            "Validation loss decreased (0.000099 --> 0.000092).  Saving model ...\n",
            "Epoch: 8 \tTraining Loss: 0.000015 \tValidation Loss: 0.000087\n",
            "Validation loss decreased (0.000092 --> 0.000087).  Saving model ...\n",
            "Epoch: 9 \tTraining Loss: 0.000014 \tValidation Loss: 0.000083\n",
            "Validation loss decreased (0.000087 --> 0.000083).  Saving model ...\n",
            "Epoch: 10 \tTraining Loss: 0.000013 \tValidation Loss: 0.000079\n",
            "Validation loss decreased (0.000083 --> 0.000079).  Saving model ...\n"
          ]
        }
      ]
    },
    {
      "cell_type": "code",
      "source": [],
      "metadata": {
        "id": "Ko3SgflqyBCd"
      },
      "execution_count": null,
      "outputs": []
    }
  ]
}