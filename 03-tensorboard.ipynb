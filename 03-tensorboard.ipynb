{
 "cells": [
  {
   "cell_type": "markdown",
   "metadata": {},
   "source": [
    "    If you want to use GPU..."
   ]
  },
  {
   "cell_type": "code",
   "execution_count": 1,
   "metadata": {},
   "outputs": [
    {
     "name": "stdout",
     "output_type": "stream",
     "text": [
      "Using GPU: NVIDIA GeForce RTX 3080\n",
      "CUDA Visible devices: 1\n"
     ]
    }
   ],
   "source": [
    "gpu = \"1\" #iF YOU WANT TO USE GPU\n",
    "# gpu = None \n",
    "\n",
    "import os\n",
    "import torch\n",
    "#----------------------------------------------------------------\n",
    "# Selecting the device\n",
    "#----------------------------------------------------------------\n",
    "if gpu:\n",
    "    os.environ[\"CUDA_DEVICE_ORDER\"] = \"PCI_BUS_ID\"\n",
    "    os.environ[\"CUDA_VISIBLE_DEVICES\"] = gpu #aca se pone nuemro de grafica libre\n",
    "\n",
    "if torch.cuda.is_available():\n",
    "    device = torch.device('cuda')\n",
    "    print(f'Using GPU: {torch.cuda.get_device_name()}')\n",
    "    print('CUDA Visible devices:',os.getenv('CUDA_VISIBLE_DEVICES'))\n",
    "else:\n",
    "    device = torch.device('cpu')\n",
    "    print(\"Failed to find GPU, using CPU instead.\")\n"
   ]
  },
  {
   "cell_type": "markdown",
   "metadata": {},
   "source": [
    "# Imports"
   ]
  },
  {
   "cell_type": "code",
   "execution_count": 3,
   "metadata": {},
   "outputs": [],
   "source": [
    "# !pip install tensorboard"
   ]
  },
  {
   "cell_type": "code",
   "execution_count": 2,
   "metadata": {},
   "outputs": [],
   "source": [
    "#torch\n",
    "import torchvision\n",
    "import torch.nn as nn\n",
    "import torch.nn.functional as F\n",
    "from torch.utils.tensorboard import SummaryWriter\n",
    "import tensorboard as tb\n",
    "from torchvision import datasets, transforms\n",
    "\n",
    "#others\n",
    "from tqdm.notebook import tqdm"
   ]
  },
  {
   "cell_type": "markdown",
   "metadata": {},
   "source": [
    "# Simple Model\n",
    "\n",
    "This will be our reference model for all the examples"
   ]
  },
  {
   "cell_type": "code",
   "execution_count": 4,
   "metadata": {},
   "outputs": [],
   "source": [
    "# Simple CNN\n",
    "class simple_CNN(nn.Module):\n",
    "    def __init__(self, in_channels=1, num_classes=10):\n",
    "        super(simple_CNN, self).__init__()\n",
    "        self.conv1 = nn.Conv2d(in_channels=in_channels, out_channels=8, kernel_size=3, stride=1, padding=1)\n",
    "        self.pool = nn.MaxPool2d(kernel_size=(2, 2), stride=(2, 2))\n",
    "        self.conv2 = nn.Conv2d(in_channels=8, out_channels=16, kernel_size=3, stride=1, padding=1)\n",
    "        self.fc1 = nn.Linear(16 * 7 * 7, num_classes)\n",
    "\n",
    "    def forward(self, x):\n",
    "        x = F.relu(self.conv1(x))\n",
    "        x = self.pool(x)\n",
    "        x = F.relu(self.conv2(x))\n",
    "        x = self.pool(x)\n",
    "        x = x.reshape(x.shape[0], -1)\n",
    "        x = self.fc1(x)\n",
    "        return x"
   ]
  },
  {
   "cell_type": "markdown",
   "metadata": {},
   "source": [
    "# Example No.1"
   ]
  },
  {
   "cell_type": "code",
   "execution_count": 9,
   "metadata": {},
   "outputs": [],
   "source": [
    "# Hyperparameters\n",
    "lr = 0.001\n",
    "in_channels = 1\n",
    "num_classes = 10\n",
    "batch_size = 64\n",
    "num_epochs = 3\n",
    "\n",
    "# Load Data\n",
    "train_dataset = datasets.MNIST(root='dataset/', train=True, transform = transforms.ToTensor(), download=True)\n",
    "train_loader = torch.utils.data.DataLoader(dataset=train_dataset, batch_size=batch_size, shuffle=True)\n",
    "\n",
    "#Initialize network\n",
    "model = simple_CNN(in_channels=in_channels, num_classes=num_classes)\n",
    "model.to(device) #move model to device\n",
    "\n",
    "#Loss and optimizer\n",
    "criterion = nn.CrossEntropyLoss()\n",
    "optimizer = torch.optim.Adam(model.parameters(), lr=lr)\n",
    "\n",
    "\"\"\"\n",
    "TENSORBOARD WRITER \n",
    "\"\"\"\n",
    "writer = SummaryWriter(f'runs/MNIST/using_tensorboard')\n",
    "step = 0\n",
    "\n",
    "for epoch in range(num_epochs):\n",
    "    for batch_idx, (data, targets) in enumerate(train_loader):\n",
    "        # Get data to cuda if possible\n",
    "        data = data.to(device=device)\n",
    "        targets = targets.to(device=device)\n",
    "\n",
    "        # forward\n",
    "        scores = model(data)\n",
    "        loss = criterion(scores, targets)\n",
    "\n",
    "        # backward\n",
    "        optimizer.zero_grad()\n",
    "        loss.backward()\n",
    "\n",
    "        # gradient descent or adam step\n",
    "        optimizer.step()\n",
    "        \n",
    "        #Calculate running trining accuracy\n",
    "        _, predictions = scores.max(1) # [[0,1],[1,0],[0,1],[]]\n",
    "        num_correct = (predictions == targets).sum() #TP+TN\n",
    "        running_train_acc = float(num_correct)/float(data.shape[0]) #ACC\n",
    "\n",
    "        # tensorboard\n",
    "        writer.add_scalar('Training loss', loss, global_step = step)\n",
    "        writer.add_scalar('Training Accurcy', running_train_acc, global_step = step)\n",
    "        step += 1 #step is the number of batches\n",
    "        \n",
    "       "
   ]
  },
  {
   "cell_type": "markdown",
   "metadata": {},
   "source": [
    "# Example No.2"
   ]
  },
  {
   "cell_type": "code",
   "execution_count": 11,
   "metadata": {},
   "outputs": [
    {
     "data": {
      "application/vnd.jupyter.widget-view+json": {
       "model_id": "8fba7d7e76fd4afc9da5ea7c17c57e47",
       "version_major": 2,
       "version_minor": 0
      },
      "text/plain": [
       "  0%|          | 0/3 [00:00<?, ?it/s]"
      ]
     },
     "metadata": {},
     "output_type": "display_data"
    }
   ],
   "source": [
    "# Hyperparameters\n",
    "in_channels = 1\n",
    "num_classes = 10\n",
    "num_epochs = 3\n",
    "batch_sizes = [64,128,1024]\n",
    "learning_rates = [0.01, 0.001, 0.0001]\n",
    "\n",
    "\n",
    "# Load Data\n",
    "train_dataset = datasets.MNIST(root='dataset/', train=True, transform = transforms.ToTensor(), download=True)\n",
    "\n",
    "for batch_size in tqdm(batch_sizes):\n",
    "    for lr in learning_rates:\n",
    "        step = 0        \n",
    "        \n",
    "        #dataloader\n",
    "        train_loader = torch.utils.data.DataLoader(dataset=train_dataset, batch_size=batch_size, shuffle=True)\n",
    "        \n",
    "        #Initialize network\n",
    "        model = simple_CNN(in_channels=in_channels, num_classes=num_classes)\n",
    "        model.to(device) #move model to device\n",
    "        \n",
    "        #Loss and optimizer\n",
    "        criterion = nn.CrossEntropyLoss()\n",
    "        optimizer = torch.optim.Adam(model.parameters(), lr=lr)\n",
    "        \n",
    "        #TENSORBOARD WRITER \n",
    "        writer = SummaryWriter(f'runs/MNIST/batchSize_{batch_size}_lr_{lr}')    \n",
    "        \n",
    "        for epoch in range(num_epochs):\n",
    "            for batch_idx, (data, targets) in enumerate(train_loader):\n",
    "                # Get data to cuda if possible\n",
    "                data = data.to(device=device)\n",
    "                targets = targets.to(device=device)\n",
    "\n",
    "                # forward\n",
    "                scores = model(data)\n",
    "                loss = criterion(scores, targets)\n",
    "\n",
    "                # backward\n",
    "                optimizer.zero_grad()\n",
    "                loss.backward()\n",
    "\n",
    "                # gradient descent or adam step\n",
    "                optimizer.step()\n",
    "                \n",
    "                #Calculate running trining accuracy\n",
    "                _, predictions = scores.max(1)\n",
    "                num_correct = (predictions == targets).sum()\n",
    "                running_train_acc = float(num_correct)/float(data.shape[0])\n",
    "\n",
    "                # tensorboard\n",
    "                writer.add_scalar('Training loss', loss, global_step = step)\n",
    "                writer.add_scalar('Training Accurcy', running_train_acc, global_step = step)\n",
    "                step += 1 #step is the number of batches"
   ]
  },
  {
   "cell_type": "markdown",
   "metadata": {},
   "source": [
    "# Example No.3\n",
    "Using ``add_hparams``"
   ]
  },
  {
   "cell_type": "code",
   "execution_count": 12,
   "metadata": {},
   "outputs": [
    {
     "data": {
      "application/vnd.jupyter.widget-view+json": {
       "model_id": "4a508f1364b94df183259bb919523112",
       "version_major": 2,
       "version_minor": 0
      },
      "text/plain": [
       "  0%|          | 0/3 [00:00<?, ?it/s]"
      ]
     },
     "metadata": {},
     "output_type": "display_data"
    },
    {
     "data": {
      "application/vnd.jupyter.widget-view+json": {
       "model_id": "b2ce61c58552426cacef60a5811766e8",
       "version_major": 2,
       "version_minor": 0
      },
      "text/plain": [
       "  0%|          | 0/3 [00:00<?, ?it/s]"
      ]
     },
     "metadata": {},
     "output_type": "display_data"
    }
   ],
   "source": [
    "# Hyperparameters\n",
    "in_channels = 1\n",
    "num_classes = 10\n",
    "num_epochs = 3\n",
    "batch_sizes = [128,1024]\n",
    "learning_rates = [0.01, 0.001, 0.0001]\n",
    "\n",
    "\n",
    "# Load Data\n",
    "train_dataset = datasets.MNIST(root='dataset/', train=True, transform = transforms.ToTensor(), download=True)\n",
    "\n",
    "for batch_size in batch_sizes:\n",
    "    for lr in tqdm(learning_rates):\n",
    "        step = 0        \n",
    "        \n",
    "        #dataloader\n",
    "        train_loader = torch.utils.data.DataLoader(dataset=train_dataset, batch_size=batch_size, shuffle=True)\n",
    "        \n",
    "        #Initialize network\n",
    "        model = simple_CNN(in_channels=in_channels, num_classes=num_classes)\n",
    "        model.to(device) #move model to device\n",
    "        \n",
    "        #Loss and optimizer\n",
    "        criterion = nn.CrossEntropyLoss()\n",
    "        optimizer = torch.optim.Adam(model.parameters(), lr=lr)\n",
    "        \n",
    "        #TENSORBOARD WRITER \n",
    "        writer = SummaryWriter(f'runs/MNIST/batchSize_{batch_size}_lr_{lr}')    \n",
    "        \n",
    "        for epoch in range(num_epochs):\n",
    "            accuracies, losses = [], []\n",
    "            for batch_idx, (data, targets) in enumerate(train_loader):\n",
    "                # Get data to cuda if possible\n",
    "                data = data.to(device=device)\n",
    "                targets = targets.to(device=device)\n",
    "\n",
    "                # forward\n",
    "                scores = model(data)\n",
    "                loss = criterion(scores, targets)\n",
    "                losses.append(loss.item())\n",
    "                \n",
    "                # backward\n",
    "                optimizer.zero_grad()\n",
    "                loss.backward()\n",
    "\n",
    "                # gradient descent or adam step\n",
    "                optimizer.step()\n",
    "                \n",
    "                #Calculate running trining accuracy\n",
    "                _, predictions = scores.max(1)\n",
    "                num_correct = (predictions == targets).sum()\n",
    "                running_train_acc = float(num_correct)/float(data.shape[0])\n",
    "                accuracies.append(running_train_acc)\n",
    "                # tensorboard\n",
    "                writer.add_scalar('Training loss', loss, global_step = step)\n",
    "                writer.add_scalar('Training Accurcy', running_train_acc, global_step = step)\n",
    "                step += 1 #step is the number of batches\n",
    "        writer.add_hparams(\n",
    "            hparam_dict = {\"lr\": lr, \"bsize\": batch_size},\n",
    "            metric_dict = {\"Accuracy\": sum(accuracies)/len(accuracies), \n",
    "                           \"loss\": sum(losses),\n",
    "                          \"time\": time_sss}\n",
    "        )"
   ]
  },
  {
   "cell_type": "markdown",
   "metadata": {},
   "source": [
    "# Example 4\n",
    "\n",
    "Saving weights"
   ]
  },
  {
   "cell_type": "code",
   "execution_count": 14,
   "metadata": {},
   "outputs": [
    {
     "data": {
      "application/vnd.jupyter.widget-view+json": {
       "model_id": "2ea81b9b6a7b41b4bbecf8171a6f8b5d",
       "version_major": 2,
       "version_minor": 0
      },
      "text/plain": [
       "  0%|          | 0/1 [00:00<?, ?it/s]"
      ]
     },
     "metadata": {},
     "output_type": "display_data"
    }
   ],
   "source": [
    "# Hyperparameters\n",
    "in_channels = 1\n",
    "num_classes = 10\n",
    "num_epochs = 3\n",
    "batch_sizes = [1024]\n",
    "learning_rates = [0.01]\n",
    "\n",
    "\n",
    "# Load Data\n",
    "train_dataset = datasets.MNIST(root='dataset/', train=True, transform = transforms.ToTensor(), download=True)\n",
    "\n",
    "for batch_size in batch_sizes:\n",
    "    for lr in tqdm(learning_rates):\n",
    "        step = 0        \n",
    "        \n",
    "        #dataloader\n",
    "        train_loader = torch.utils.data.DataLoader(dataset=train_dataset, batch_size=batch_size, shuffle=True)\n",
    "        \n",
    "        #Initialize network\n",
    "        model = simple_CNN(in_channels=in_channels, num_classes=num_classes)\n",
    "        model.to(device) #move model to device\n",
    "        \n",
    "        #Loss and optimizer\n",
    "        criterion = nn.CrossEntropyLoss()\n",
    "        optimizer = torch.optim.Adam(model.parameters(), lr=lr)\n",
    "        \n",
    "        #TENSORBOARD WRITER \n",
    "        writer = SummaryWriter(f'runs/MNIST/batchSize_{batch_size}_lr_{lr}_savingWeights')    \n",
    "        \n",
    "        for epoch in range(num_epochs):\n",
    "            accuracies, losses = [], []\n",
    "            for batch_idx, (data, targets) in enumerate(train_loader):\n",
    "                # Get data to cuda if possible\n",
    "                data = data.to(device=device)\n",
    "                targets = targets.to(device=device)\n",
    "\n",
    "                # forward\n",
    "                scores = model(data)\n",
    "                loss = criterion(scores, targets)\n",
    "                losses.append(loss.item())\n",
    "                \n",
    "                # backward\n",
    "                optimizer.zero_grad()\n",
    "                loss.backward()\n",
    "\n",
    "                # gradient descent or adam step\n",
    "                optimizer.step()\n",
    "                \n",
    "                # histogram of weights\n",
    "                writer.add_histogram(\"fc1\", model.fc1.weight, global_step = step)\n",
    "                writer.add_histogram(\"conv1\", model.conv1.weight, global_step = step)\n",
    "                writer.add_histogram(\"conv2\", model.conv2.weight, global_step = step)\n",
    "                #Calculate running trining accuracy\n",
    "                _, predictions = scores.max(1)\n",
    "                num_correct = (predictions == targets).sum()\n",
    "                running_train_acc = float(num_correct)/float(data.shape[0])\n",
    "                accuracies.append(running_train_acc)\n",
    "                # tensorboard\n",
    "                writer.add_scalar('Training loss', loss, global_step = step)\n",
    "                writer.add_scalar('Training Accurcy', running_train_acc, global_step = step)\n",
    "                step += 1 #step is the number of batches\n",
    "        writer.add_hparams(\n",
    "            hparam_dict = {\"lr\": lr, \"bsize\": batch_size},\n",
    "            metric_dict = {\"Accuracy\": sum(accuracies)/len(accuracies), \"loss\": sum(losses)}\n",
    "        )"
   ]
  },
  {
   "cell_type": "markdown",
   "metadata": {},
   "source": [
    "# Example 5.\n",
    "Adding images"
   ]
  },
  {
   "cell_type": "code",
   "execution_count": 15,
   "metadata": {},
   "outputs": [
    {
     "data": {
      "application/vnd.jupyter.widget-view+json": {
       "model_id": "741abcabf8774c6381a7a615a7670ce7",
       "version_major": 2,
       "version_minor": 0
      },
      "text/plain": [
       "  0%|          | 0/1 [00:00<?, ?it/s]"
      ]
     },
     "metadata": {},
     "output_type": "display_data"
    }
   ],
   "source": [
    "# Hyperparameters\n",
    "in_channels = 1\n",
    "num_classes = 10\n",
    "num_epochs = 3\n",
    "batch_sizes = [1024]\n",
    "learning_rates = [0.01]\n",
    "\n",
    "\n",
    "# Load Data\n",
    "train_dataset = datasets.MNIST(root='dataset/', train=True, transform = transforms.ToTensor(), download=True)\n",
    "classes = [\"0\",\"1\",\"2\",\"3\",\"4\",\"5\",\"6\",\"7\",\"8\",\"9\"]\n",
    "\n",
    "for batch_size in batch_sizes:\n",
    "    for lr in tqdm(learning_rates):\n",
    "        step = 0        \n",
    "        \n",
    "        #dataloader\n",
    "        train_loader = torch.utils.data.DataLoader(dataset=train_dataset, batch_size=batch_size, shuffle=True)\n",
    "        \n",
    "        #Initialize network\n",
    "        model = simple_CNN(in_channels=in_channels, num_classes=num_classes)\n",
    "        model.to(device) #move model to device\n",
    "        \n",
    "        #Loss and optimizer\n",
    "        criterion = nn.CrossEntropyLoss()\n",
    "        optimizer = torch.optim.Adam(model.parameters(), lr=lr)\n",
    "        \n",
    "        #TENSORBOARD WRITER \n",
    "        writer = SummaryWriter(f'runs/MNIST/batchSize_{batch_size}_lr_{lr}_savingWeights')    \n",
    "        \n",
    "        for epoch in range(num_epochs):\n",
    "            accuracies, losses = [], []\n",
    "            for batch_idx, (data, targets) in enumerate(train_loader):\n",
    "                # Get data to cuda if possible\n",
    "                data = data.to(device=device)\n",
    "                targets = targets.to(device=device)\n",
    "\n",
    "                # forward\n",
    "                scores = model(data)\n",
    "                loss = criterion(scores, targets)\n",
    "                losses.append(loss.item())\n",
    "                \n",
    "                # backward\n",
    "                optimizer.zero_grad()\n",
    "                loss.backward()\n",
    "\n",
    "                # gradient descent or adam step\n",
    "                optimizer.step()\n",
    "                \n",
    "                # histogram of weights\n",
    "                writer.add_histogram(\"fc1\", model.fc1.weight, global_step = step)\n",
    "                writer.add_histogram(\"conv1\", model.conv1.weight, global_step = step)\n",
    "                writer.add_histogram(\"conv2\", model.conv1.weight, global_step = step)\n",
    "                #Calculate running trining accuracy\n",
    "                _, predictions = scores.max(1)\n",
    "                num_correct = (predictions == targets).sum()\n",
    "                running_train_acc = float(num_correct)/float(data.shape[0])\n",
    "                accuracies.append(running_train_acc)\n",
    "                \n",
    "                #Embeddings and images            \n",
    "                img_grid = torchvision.utils.make_grid(data) #make grid of images\n",
    "                writer.add_image(\"mnist_images\", img_grid) #add image to tensorboard\n",
    "                \n",
    "                features = data.reshape(data.shape[0], -1) #embeddings  \n",
    "                class_labels = [classes[label] for label in predictions]\n",
    "                if batch_idx == 230: #only add embeddings once per epoch\n",
    "                    writer.add_embedding(\n",
    "                        features,\n",
    "                        metadata=class_labels,\n",
    "                        label_img=data,\n",
    "                        global_step=batch_idx,\n",
    "                    )\n",
    "                \n",
    "                # tensorboard\n",
    "                writer.add_scalar('Training loss', loss, global_step = step)\n",
    "                writer.add_scalar('Training Accurcy', running_train_acc, global_step = step)\n",
    "                step += 1 #step is the number of batches\n",
    "        writer.add_hparams(\n",
    "            hparam_dict = {\"lr\": lr, \"bsize\": batch_size},\n",
    "            metric_dict = {\"Accuracy\": sum(accuracies)/len(accuracies), \"loss\": sum(losses)}\n",
    "        )"
   ]
  },
  {
   "cell_type": "code",
   "execution_count": null,
   "metadata": {},
   "outputs": [],
   "source": []
  }
 ],
 "metadata": {
  "kernelspec": {
   "display_name": "Python 3 (ipykernel)",
   "language": "python",
   "name": "python3"
  },
  "language_info": {
   "codemirror_mode": {
    "name": "ipython",
    "version": 3
   },
   "file_extension": ".py",
   "mimetype": "text/x-python",
   "name": "python",
   "nbconvert_exporter": "python",
   "pygments_lexer": "ipython3",
   "version": "3.8.12"
  },
  "vscode": {
   "interpreter": {
    "hash": "d4d1e4263499bec80672ea0156c357c1ee493ec2b1c70f0acce89fc37c4a6abe"
   }
  }
 },
 "nbformat": 4,
 "nbformat_minor": 2
}
